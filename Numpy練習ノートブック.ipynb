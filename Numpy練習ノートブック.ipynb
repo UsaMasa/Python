{
  "nbformat": 4,
  "nbformat_minor": 0,
  "metadata": {
    "colab": {
      "name": "Numpy練習ノートブック.ipynb",
      "provenance": [],
      "collapsed_sections": [],
      "include_colab_link": true
    },
    "kernelspec": {
      "name": "python3",
      "display_name": "Python 3"
    }
  },
  "cells": [
    {
      "cell_type": "markdown",
      "metadata": {
        "id": "view-in-github",
        "colab_type": "text"
      },
      "source": [
        "<a href=\"https://colab.research.google.com/github/UsaMasa/Python/blob/master/Numpy%E7%B7%B4%E7%BF%92%E3%83%8E%E3%83%BC%E3%83%88%E3%83%96%E3%83%83%E3%82%AF.ipynb\" target=\"_parent\"><img src=\"https://colab.research.google.com/assets/colab-badge.svg\" alt=\"Open In Colab\"/></a>"
      ]
    },
    {
      "cell_type": "markdown",
      "metadata": {
        "id": "fJpaWhC9WH-Q",
        "colab_type": "text"
      },
      "source": [
        "# Numpy練習用ノートブック"
      ]
    },
    {
      "cell_type": "markdown",
      "metadata": {
        "id": "u7eO-1w71Hsu",
        "colab_type": "text"
      },
      "source": [
        "## 自習用\n",
        "便利な関数置き場"
      ]
    },
    {
      "cell_type": "code",
      "metadata": {
        "id": "_iXfaUsZVdrd",
        "colab_type": "code",
        "colab": {}
      },
      "source": [
        "import numpy as np"
      ],
      "execution_count": 0,
      "outputs": []
    },
    {
      "cell_type": "markdown",
      "metadata": {
        "id": "sosm1KhX2DYH",
        "colab_type": "text"
      },
      "source": [
        "## np.squeeze\n",
        "不要な次元を削減する"
      ]
    },
    {
      "cell_type": "markdown",
      "metadata": {
        "id": "BOT-Gh5e3AME",
        "colab_type": "text"
      },
      "source": [
        "参考：　https://docs.scipy.org/doc/numpy/reference/generated/numpy.squeeze.html"
      ]
    },
    {
      "cell_type": "code",
      "metadata": {
        "id": "IiZeQ_8C1Gvm",
        "colab_type": "code",
        "colab": {
          "base_uri": "https://localhost:8080/",
          "height": 34
        },
        "outputId": "41aaf83a-7767-4ab4-8b1c-29ecb135ea42"
      },
      "source": [
        "x = np.array([[[0],[1],[2]]])\n",
        "x.shape"
      ],
      "execution_count": 3,
      "outputs": [
        {
          "output_type": "execute_result",
          "data": {
            "text/plain": [
              "(1, 3, 1)"
            ]
          },
          "metadata": {
            "tags": []
          },
          "execution_count": 3
        }
      ]
    },
    {
      "cell_type": "code",
      "metadata": {
        "id": "NP_bLw5w1ZHs",
        "colab_type": "code",
        "colab": {
          "base_uri": "https://localhost:8080/",
          "height": 34
        },
        "outputId": "cf4dd6e3-265c-4841-8550-eac42f3b44c4"
      },
      "source": [
        "np.squeeze(x,axis=0).shape"
      ],
      "execution_count": 4,
      "outputs": [
        {
          "output_type": "execute_result",
          "data": {
            "text/plain": [
              "(3, 1)"
            ]
          },
          "metadata": {
            "tags": []
          },
          "execution_count": 4
        }
      ]
    },
    {
      "cell_type": "code",
      "metadata": {
        "id": "nf3B8gkQ2Rti",
        "colab_type": "code",
        "colab": {
          "base_uri": "https://localhost:8080/",
          "height": 34
        },
        "outputId": "d604086a-df9b-4c8c-dc7f-6eb37cef15a8"
      },
      "source": [
        "np.squeeze(x,axis=-1).shape"
      ],
      "execution_count": 5,
      "outputs": [
        {
          "output_type": "execute_result",
          "data": {
            "text/plain": [
              "(1, 3)"
            ]
          },
          "metadata": {
            "tags": []
          },
          "execution_count": 5
        }
      ]
    },
    {
      "cell_type": "markdown",
      "metadata": {
        "id": "tUxSiXQD2Yrn",
        "colab_type": "text"
      },
      "source": [
        "## reshape(-1)"
      ]
    },
    {
      "cell_type": "markdown",
      "metadata": {
        "id": "EN7EQWDW3Ep2",
        "colab_type": "text"
      },
      "source": [
        "reshapeの一つのサイズが決まっているときに、もう一方を-1にすると、-1には元の形状から推測された値が入る。\n",
        "\n",
        "なお、配列等のindexとして-1を指定する際は配列の最後を表す。混同に注意。\n",
        "\n",
        "参考：　https://qiita.com/guitar_char/items/deb49d5a433a2c8a8ed4"
      ]
    },
    {
      "cell_type": "code",
      "metadata": {
        "id": "to-DwK3M2-gj",
        "colab_type": "code",
        "colab": {
          "base_uri": "https://localhost:8080/",
          "height": 34
        },
        "outputId": "9ee3e06c-0002-40d9-e4d6-4099177ea0fa"
      },
      "source": [
        "x = np.array([[1,2,3,4],\n",
        "              [5,6,7,8],\n",
        "              [9,10,11,12]])\n",
        "x.shape"
      ],
      "execution_count": 6,
      "outputs": [
        {
          "output_type": "execute_result",
          "data": {
            "text/plain": [
              "(3, 4)"
            ]
          },
          "metadata": {
            "tags": []
          },
          "execution_count": 6
        }
      ]
    },
    {
      "cell_type": "code",
      "metadata": {
        "id": "uAqeAJhm3Tx-",
        "colab_type": "code",
        "colab": {
          "base_uri": "https://localhost:8080/",
          "height": 34
        },
        "outputId": "4b6012b5-41d2-4e74-d632-e0bba50ba2dd"
      },
      "source": [
        "#行ベクトルになり、列サイズは元の形状から推測されてreshapeされる\n",
        "x.reshape(-1)"
      ],
      "execution_count": 7,
      "outputs": [
        {
          "output_type": "execute_result",
          "data": {
            "text/plain": [
              "array([ 1,  2,  3,  4,  5,  6,  7,  8,  9, 10, 11, 12])"
            ]
          },
          "metadata": {
            "tags": []
          },
          "execution_count": 7
        }
      ]
    },
    {
      "cell_type": "code",
      "metadata": {
        "id": "EivT7PHQ3Vxu",
        "colab_type": "code",
        "colab": {}
      },
      "source": [
        "#列数2のみが決まり、行数は元の形状から推測される\n",
        "x.reshape(-1,2)"
      ],
      "execution_count": 0,
      "outputs": []
    },
    {
      "cell_type": "markdown",
      "metadata": {
        "id": "RZQT4guYQF1Y",
        "colab_type": "text"
      },
      "source": [
        "## 行列の操作\n"
      ]
    },
    {
      "cell_type": "markdown",
      "metadata": {
        "id": "fC0IU6-tOZ3O",
        "colab_type": "text"
      },
      "source": [
        "参考　：　https://qiita.com/supersaiakujin/items/d63c73bb7b5aac43898a"
      ]
    },
    {
      "cell_type": "code",
      "metadata": {
        "id": "xYkoNUEiQT4Y",
        "colab_type": "code",
        "colab": {
          "base_uri": "https://localhost:8080/",
          "height": 102
        },
        "outputId": "be1be5a1-e3a6-49d4-a97c-32e1380344db"
      },
      "source": [
        "X = np.arange(25).reshape(5,5)\n",
        "print(X)"
      ],
      "execution_count": 27,
      "outputs": [
        {
          "output_type": "stream",
          "text": [
            "[[ 0  1  2  3  4]\n",
            " [ 5  6  7  8  9]\n",
            " [10 11 12 13 14]\n",
            " [15 16 17 18 19]\n",
            " [20 21 22 23 24]]\n"
          ],
          "name": "stdout"
        }
      ]
    },
    {
      "cell_type": "code",
      "metadata": {
        "id": "Sm7kJ6GCQeKX",
        "colab_type": "code",
        "colab": {
          "base_uri": "https://localhost:8080/",
          "height": 51
        },
        "outputId": "356e86ec-3d9b-49bd-8931-3dd72a74a0eb"
      },
      "source": [
        "print(X[1:3,0:2])\n",
        "#1行目から3-1行目までと、0列目から1列目までを抜き出す"
      ],
      "execution_count": 22,
      "outputs": [
        {
          "output_type": "stream",
          "text": [
            "[[ 5  6]\n",
            " [10 11]]\n"
          ],
          "name": "stdout"
        }
      ]
    },
    {
      "cell_type": "code",
      "metadata": {
        "id": "QKm-qIp6Qr19",
        "colab_type": "code",
        "colab": {
          "base_uri": "https://localhost:8080/",
          "height": 34
        },
        "outputId": "b83045f0-0e9e-4ef5-d03c-2322dcc6c392"
      },
      "source": [
        "print(X[1])#X[1,], X[1,:]も同じ\n",
        "#行の抽出"
      ],
      "execution_count": 23,
      "outputs": [
        {
          "output_type": "stream",
          "text": [
            "[5 6 7 8 9]\n"
          ],
          "name": "stdout"
        }
      ]
    },
    {
      "cell_type": "code",
      "metadata": {
        "id": "nfbTyWMrREHv",
        "colab_type": "code",
        "colab": {
          "base_uri": "https://localhost:8080/",
          "height": 34
        },
        "outputId": "04f13a45-edaf-4497-b0a6-0e47bd25084b"
      },
      "source": [
        "print(X[:, 1])\n",
        "#列の抽出。ただしこの時結果が一次元のnumpy arrayになるので、行列演算に使う場合は注意"
      ],
      "execution_count": 24,
      "outputs": [
        {
          "output_type": "stream",
          "text": [
            "[ 1  6 11 16 21]\n"
          ],
          "name": "stdout"
        }
      ]
    },
    {
      "cell_type": "code",
      "metadata": {
        "id": "ZIgEvJBaRnhG",
        "colab_type": "code",
        "colab": {
          "base_uri": "https://localhost:8080/",
          "height": 102
        },
        "outputId": "5cee8d96-4d41-408b-8729-157098758076"
      },
      "source": [
        "X[X%2==0]=0\n",
        "print(X)\n",
        "#条件を満たすものを全て0に置き換える"
      ],
      "execution_count": 29,
      "outputs": [
        {
          "output_type": "stream",
          "text": [
            "[[ 0  1  0  3  0]\n",
            " [ 5  0  7  0  9]\n",
            " [ 0 11  0 13  0]\n",
            " [15  0 17  0 19]\n",
            " [ 0 21  0 23  0]]\n"
          ],
          "name": "stdout"
        }
      ]
    },
    {
      "cell_type": "code",
      "metadata": {
        "id": "gCyKswGjR7l7",
        "colab_type": "code",
        "colab": {
          "base_uri": "https://localhost:8080/",
          "height": 51
        },
        "outputId": "11087278-1df2-471e-a8b2-63dba38287d0"
      },
      "source": [
        "X[np.ix_([1,3],[0,2])]\n",
        "#1行目か3行目かつ、0列目か2列目"
      ],
      "execution_count": 30,
      "outputs": [
        {
          "output_type": "execute_result",
          "data": {
            "text/plain": [
              "array([[ 5,  7],\n",
              "       [15, 17]])"
            ]
          },
          "metadata": {
            "tags": []
          },
          "execution_count": 30
        }
      ]
    },
    {
      "cell_type": "code",
      "metadata": {
        "id": "IMoCYdlUS-B_",
        "colab_type": "code",
        "colab": {
          "base_uri": "https://localhost:8080/",
          "height": 34
        },
        "outputId": "37ccb0f5-61d3-47c1-a34b-31935b88620a"
      },
      "source": [
        "i,j = np.where(X!=0)\n",
        "X[i,j]\n",
        "#条件を満たすものを抽出する"
      ],
      "execution_count": 31,
      "outputs": [
        {
          "output_type": "execute_result",
          "data": {
            "text/plain": [
              "array([ 1,  3,  5,  7,  9, 11, 13, 15, 17, 19, 21, 23])"
            ]
          },
          "metadata": {
            "tags": []
          },
          "execution_count": 31
        }
      ]
    },
    {
      "cell_type": "code",
      "metadata": {
        "id": "PXH9cr4QTiDN",
        "colab_type": "code",
        "colab": {
          "base_uri": "https://localhost:8080/",
          "height": 68
        },
        "outputId": "7478c34a-9449-4fb1-916b-86dedf9473b4"
      },
      "source": [
        "a = np.array([0,1,2])\n",
        "b = np.array([4,5,6])\n",
        "print(np.vstack((a,b)))\n",
        "print(np.hstack((a,b)))"
      ],
      "execution_count": 35,
      "outputs": [
        {
          "output_type": "stream",
          "text": [
            "[[0 1 2]\n",
            " [4 5 6]]\n",
            "[0 1 2 4 5 6]\n"
          ],
          "name": "stdout"
        }
      ]
    },
    {
      "cell_type": "code",
      "metadata": {
        "id": "l0EoP8NCT7X_",
        "colab_type": "code",
        "colab": {
          "base_uri": "https://localhost:8080/",
          "height": 68
        },
        "outputId": "1ae90fde-56dd-42af-dd74-dfb8849b2ea3"
      },
      "source": [
        "#a.reshape(len(a),1)\n",
        "#b.reshape(len(b),1)\n",
        "np.hstack((a.reshape(len(a),1),b.reshape(len(b),1)))"
      ],
      "execution_count": 39,
      "outputs": [
        {
          "output_type": "execute_result",
          "data": {
            "text/plain": [
              "array([[0, 4],\n",
              "       [1, 5],\n",
              "       [2, 6]])"
            ]
          },
          "metadata": {
            "tags": []
          },
          "execution_count": 39
        }
      ]
    },
    {
      "cell_type": "code",
      "metadata": {
        "id": "6WUVYaJFU8sH",
        "colab_type": "code",
        "colab": {
          "base_uri": "https://localhost:8080/",
          "height": 68
        },
        "outputId": "dbff4df9-7535-4857-f35a-6826a96325dd"
      },
      "source": [
        "a.reshape(1, len(a)).transpose()\n",
        "#転置。a.tranpose()だけだと何も起きない"
      ],
      "execution_count": 41,
      "outputs": [
        {
          "output_type": "execute_result",
          "data": {
            "text/plain": [
              "array([[0],\n",
              "       [1],\n",
              "       [2]])"
            ]
          },
          "metadata": {
            "tags": []
          },
          "execution_count": 41
        }
      ]
    },
    {
      "cell_type": "markdown",
      "metadata": {
        "id": "bXGssGPK4JxO",
        "colab_type": "text"
      },
      "source": [
        "## one-hot表現への変換\n",
        "np.arrayをone-hot表現に変換する"
      ]
    },
    {
      "cell_type": "markdown",
      "metadata": {
        "id": "hyOetCet7mXZ",
        "colab_type": "text"
      },
      "source": [
        "参考：　https://tutorialmore.com/questions-771930.htm"
      ]
    },
    {
      "cell_type": "code",
      "metadata": {
        "id": "O9bS8f4l51-Y",
        "colab_type": "code",
        "colab": {}
      },
      "source": [
        "def one_hot(a, num_classes):\n",
        "    return np.squeeze(np.eye(num_classes)[a.reshape(-1)])"
      ],
      "execution_count": 0,
      "outputs": []
    },
    {
      "cell_type": "code",
      "metadata": {
        "id": "8qGiC8tR53BM",
        "colab_type": "code",
        "colab": {
          "base_uri": "https://localhost:8080/",
          "height": 68
        },
        "outputId": "5c061428-7174-4d08-fc71-ff6dab03ebdf"
      },
      "source": [
        "a = np.array([[1],[0],[3]])"
      ],
      "execution_count": 8,
      "outputs": [
        {
          "output_type": "execute_result",
          "data": {
            "text/plain": [
              "array([[1],\n",
              "       [0],\n",
              "       [3]])"
            ]
          },
          "metadata": {
            "tags": []
          },
          "execution_count": 8
        }
      ]
    },
    {
      "cell_type": "code",
      "metadata": {
        "id": "czOuconi5_ez",
        "colab_type": "code",
        "colab": {
          "base_uri": "https://localhost:8080/",
          "height": 68
        },
        "outputId": "400df140-d138-40e5-ca22-7b6e671f9a6c"
      },
      "source": [
        "one_hot(a,4)"
      ],
      "execution_count": 17,
      "outputs": [
        {
          "output_type": "execute_result",
          "data": {
            "text/plain": [
              "array([[0., 1., 0., 0.],\n",
              "       [1., 0., 0., 0.],\n",
              "       [0., 0., 0., 1.]])"
            ]
          },
          "metadata": {
            "tags": []
          },
          "execution_count": 17
        }
      ]
    },
    {
      "cell_type": "code",
      "metadata": {
        "id": "qGdNdCuS6WwP",
        "colab_type": "code",
        "colab": {
          "base_uri": "https://localhost:8080/",
          "height": 51
        },
        "outputId": "db3abd7d-78c8-4cc8-b8cb-34a789ee29ab"
      },
      "source": [
        "one_hot(np.array([0,1]),2)"
      ],
      "execution_count": 16,
      "outputs": [
        {
          "output_type": "execute_result",
          "data": {
            "text/plain": [
              "array([[1., 0.],\n",
              "       [0., 1.]])"
            ]
          },
          "metadata": {
            "tags": []
          },
          "execution_count": 16
        }
      ]
    },
    {
      "cell_type": "code",
      "metadata": {
        "id": "Z-aOtbGU7abT",
        "colab_type": "code",
        "colab": {}
      },
      "source": [
        ""
      ],
      "execution_count": 0,
      "outputs": []
    }
  ]
}