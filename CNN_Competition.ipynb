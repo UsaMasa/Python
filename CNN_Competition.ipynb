{
  "nbformat": 4,
  "nbformat_minor": 0,
  "metadata": {
    "colab": {
      "name": "CNN_Competition.ipynb",
      "provenance": [],
      "collapsed_sections": [
        "JdLQD7dd8JKA",
        "Xlxtnv9DZZJu",
        "XfPAhxfJdIkT",
        "ynRJU_qTS5tU",
        "HTCKSaq0eLWc"
      ],
      "include_colab_link": true
    },
    "kernelspec": {
      "name": "python3",
      "display_name": "Python 3"
    },
    "accelerator": "GPU"
  },
  "cells": [
    {
      "cell_type": "markdown",
      "metadata": {
        "id": "view-in-github",
        "colab_type": "text"
      },
      "source": [
        "<a href=\"https://colab.research.google.com/github/UsaMasa/Python/blob/master/CNN_Competition.ipynb\" target=\"_parent\"><img src=\"https://colab.research.google.com/assets/colab-badge.svg\" alt=\"Open In Colab\"/></a>"
      ]
    },
    {
      "cell_type": "markdown",
      "metadata": {
        "id": "_5ywBc4zxuMV",
        "colab_type": "text"
      },
      "source": [
        "# Machine　Learning for High Energy Physics 2019復習ノートブック\n",
        "本ノートブックは2019/07/01 - 2019/07/10までに行われたMLHEP2019 Phase 1 Competitionの復習ノートブックです。\n",
        "必要なデータやスタートアップキット、ベースラインマクロ等は以下からダウンロードできます。\n",
        "\n",
        "コンペティションサイト：　https://codalab.coresearch.club/competitions/70#learn_the_details-overview\n",
        "\n",
        "必要な知識を得るための教材等は以下の運営サイトでも公開されています。\n",
        "\n",
        "MLHEP 2019 : https://indico.cern.ch/event/768915/\n"
      ]
    },
    {
      "cell_type": "markdown",
      "metadata": {
        "id": "Lr77TXQ9x7Or",
        "colab_type": "text"
      },
      "source": [
        "## Phase 1 コンペの題目\n",
        "LHCbに使われているカロリメータ検出器（電磁カロリメータ＋ハドロンカロリメータ）の情報（Energy deposit）から、機械学習の手法を用いて初期位置と初期運動量を再構成することを目標とする。"
      ]
    },
    {
      "cell_type": "markdown",
      "metadata": {
        "id": "oyj-rjiz0xFL",
        "colab_type": "text"
      },
      "source": [
        "## 実装\n",
        "PyTorchを用いてCNNを構成する。"
      ]
    },
    {
      "cell_type": "markdown",
      "metadata": {
        "id": "JdLQD7dd8JKA",
        "colab_type": "text"
      },
      "source": [
        "### 初期設定からデータの読み込みまで"
      ]
    },
    {
      "cell_type": "code",
      "metadata": {
        "id": "Te2MZUrexr-O",
        "colab_type": "code",
        "colab": {}
      },
      "source": [
        "import torch\n",
        "import torch.nn as nn\n",
        "import torch.nn.functional as F\n",
        "import torch.utils.data as utils\n",
        "import torch.optim as optim\n",
        "import numpy as np\n",
        "import matplotlib.pyplot as plt\n",
        "from tqdm import tqdm\n",
        "import seaborn as sns\n",
        "from IPython.display import clear_output\n",
        "sns.set()"
      ],
      "execution_count": 0,
      "outputs": []
    },
    {
      "cell_type": "code",
      "metadata": {
        "id": "e7WhC7Ur4Sy6",
        "colab_type": "code",
        "outputId": "ab76d00c-6ace-4aea-e140-867bd5d9571a",
        "colab": {
          "base_uri": "https://localhost:8080/",
          "height": 34
        }
      },
      "source": [
        "device = torch.device('cuda:0') #GPU set\n",
        "from google.colab import drive\n",
        "drive.mount('/gdrive')"
      ],
      "execution_count": 0,
      "outputs": [
        {
          "output_type": "stream",
          "text": [
            "Drive already mounted at /gdrive; to attempt to forcibly remount, call drive.mount(\"/gdrive\", force_remount=True).\n"
          ],
          "name": "stdout"
        }
      ]
    },
    {
      "cell_type": "code",
      "metadata": {
        "id": "VjaatJsV79Rs",
        "colab_type": "code",
        "colab": {}
      },
      "source": [
        "train_data_path = '/gdrive/My Drive/mlhep2019/data_train.npz'\n",
        "val_data_path = '/gdrive/My Drive/mlhep2019/data_val.npz'\n",
        "test_data_path = '/gdrive/My Drive/mlhep2019/data_test.npz'"
      ],
      "execution_count": 0,
      "outputs": []
    },
    {
      "cell_type": "markdown",
      "metadata": {
        "id": "153cVESo8UV7",
        "colab_type": "text"
      },
      "source": [
        "使いたい情報としては、エネルギーデポジット（30x30の画像）、運動量（3次元）、位置（2次元）、粒子の種類（1）がある。"
      ]
    },
    {
      "cell_type": "code",
      "metadata": {
        "id": "rEh22iP48UpZ",
        "colab_type": "code",
        "outputId": "30127a25-94bb-489b-a93b-63061147c5b5",
        "colab": {
          "base_uri": "https://localhost:8080/",
          "height": 34
        }
      },
      "source": [
        "# 訓練用のデータセットを開く\n",
        "data_real = np.load(train_data_path, allow_pickle=True)\n",
        "print(list(data_real.keys()))"
      ],
      "execution_count": 0,
      "outputs": [
        {
          "output_type": "stream",
          "text": [
            "['EnergyDeposit', 'ParticlePoint', 'ParticleMomentum', 'ParticlePDG']\n"
          ],
          "name": "stdout"
        }
      ]
    },
    {
      "cell_type": "code",
      "metadata": {
        "id": "oWycZCdK9beI",
        "colab_type": "code",
        "colab": {}
      },
      "source": [
        "# [data_size, 900]\n",
        "EnergyDeposit = data_real['EnergyDeposit']"
      ],
      "execution_count": 0,
      "outputs": []
    },
    {
      "cell_type": "code",
      "metadata": {
        "id": "HuyIp-j795--",
        "colab_type": "code",
        "outputId": "d11ac74b-0b35-440e-a104-55db4c6c7b08",
        "colab": {
          "base_uri": "https://localhost:8080/",
          "height": 51
        }
      },
      "source": [
        "# [data_size, channels, img_size_x, img_size_y]の形にreshapeする\n",
        "# -1を入れたところは自動で判断してくれる。1つの30x30の配列に変換された。\n",
        "print(EnergyDeposit.shape)\n",
        "EnergyDeposit = EnergyDeposit.reshape(-1, 1, 30, 30)\n",
        "EnergyDeposit = EnergyDeposit[0:30000, : , : , : ]\n",
        "print(EnergyDeposit.shape)"
      ],
      "execution_count": 0,
      "outputs": [
        {
          "output_type": "stream",
          "text": [
            "(50250, 30, 30)\n",
            "(30000, 1, 30, 30)\n"
          ],
          "name": "stdout"
        }
      ]
    },
    {
      "cell_type": "code",
      "metadata": {
        "id": "ZEklVUXQ9htP",
        "colab_type": "code",
        "outputId": "32ffcd67-ea10-4163-87c6-ee931cce78d4",
        "colab": {
          "base_uri": "https://localhost:8080/",
          "height": 51
        }
      },
      "source": [
        "# [data_size, 3]\n",
        "ParticleMomentum = data_real['ParticleMomentum']\n",
        "ParticleMomentum = ParticleMomentum[0:30000, :]\n",
        "# [data_size, 2]\n",
        "ParticlePoint = data_real['ParticlePoint']\n",
        "ParticlePoint = ParticlePoint[0:30000, :]\n",
        "# [data_size, 1]\n",
        "ParticlePDG = data_real['ParticlePDG']\n",
        "print(ParticlePDG.shape)\n",
        "ParticlePDG = ParticlePDG[0:30000]\n",
        "print(ParticlePDG.shape)"
      ],
      "execution_count": 0,
      "outputs": [
        {
          "output_type": "stream",
          "text": [
            "(50250,)\n",
            "(30000,)\n"
          ],
          "name": "stdout"
        }
      ]
    },
    {
      "cell_type": "markdown",
      "metadata": {
        "id": "3H-JYl9vOe1h",
        "colab_type": "text"
      },
      "source": [
        "使用する特徴量の抽出"
      ]
    },
    {
      "cell_type": "code",
      "metadata": {
        "id": "LlYhfjWkOhkW",
        "colab_type": "code",
        "colab": {}
      },
      "source": [
        "#今回はz方向には考えない。：2で0,1要素のみを入れる。\n",
        "ParticleMomentum = ParticleMomentum[:, :2]\n",
        "ParticlePoint = ParticlePoint[:, :2]\n",
        "#numpyからpytorchのtensorへと変換する。\n",
        "EnergyDeposit = torch.tensor(EnergyDeposit).float()\n",
        "ParticleMomentum = torch.tensor(ParticleMomentum).float()\n",
        "ParticlePoint = torch.tensor(ParticlePoint).float()\n",
        "#上三つを、TensorDatasetというフォーマットへ変換し、pytorch dataloderへ突っ込む。\n",
        "BATCH_SIZE = 1024\n",
        "calo_dataset = utils.TensorDataset(EnergyDeposit, ParticleMomentum, ParticlePoint)\n",
        "calo_dataloader = torch.utils.data.DataLoader(calo_dataset, \n",
        "                                              batch_size=BATCH_SIZE, \n",
        "                                              pin_memory=True, shuffle=True)"
      ],
      "execution_count": 0,
      "outputs": []
    },
    {
      "cell_type": "markdown",
      "metadata": {
        "id": "Xlxtnv9DZZJu",
        "colab_type": "text"
      },
      "source": [
        "## モデルの構築\n",
        "\n",
        "・Optimizer : Adam\n",
        "\n",
        "・Learning rate : 0.0001\n",
        "\n",
        "・畳み込み層 ：　4層\n",
        "\n",
        "・FC層　：　4層\n",
        "\n",
        "・Dropout : 0.3\n",
        "\n",
        "・活性化関数 ： LeLU"
      ]
    },
    {
      "cell_type": "code",
      "metadata": {
        "id": "1wVbfXDDZUQ_",
        "colab_type": "code",
        "colab": {}
      },
      "source": [
        "class Regressor(nn.Module):#nn.moduleはベークラス。モデルを作る際には継承する。\n",
        "    def __init__(self):\n",
        "        super(Regressor, self).__init__()\n",
        "        #conv2d(input_channel, output_channel, ker_size, stride)\n",
        "        #要は、output枚のサイズ2のフィルタにストライド2で通している。\n",
        "        self.conv1 = nn.Conv2d(1, 16, 2, stride=2, padding = 0)\n",
        "        self.bn1 = nn.BatchNorm2d(16)\n",
        "        #self.pool1 = nn.MaxPool2d(2)\n",
        "        \n",
        "        self.conv2 = nn.Conv2d(16, 32, 2, stride=2)\n",
        "        self.bn2 = nn.BatchNorm2d(32)\n",
        "        #self.pool2 = nn.MaxPool2d(2)\n",
        "        \n",
        "        self.conv3 = nn.Conv2d(32, 64, 2)\n",
        "        self.bn3 = nn.BatchNorm2d(64)\n",
        "        #self.pool3 = nn.MaxPool2d(2)\n",
        "        \n",
        "        self.conv4 = nn.Conv2d(64, 128, 2)\n",
        "        \n",
        "        self.dropout = nn.Dropout(p=0.5)\n",
        "        \n",
        "        self.fc1 = nn.Linear(3200, 512) #インプットー＞隠れ層\n",
        "        self.fc2 = nn.Linear(512, 256)\n",
        "        self.fc25 = nn.Linear(256, 128)\n",
        "        self.fc3 = nn.Linear(128, 64)\n",
        "        self.fc4 = nn.Linear(64, 2 + 2) #隠れ層ー＞アウトプット\n",
        "        \n",
        "       \n",
        "        \n",
        "    def forward(self, x):\n",
        "        x = self.dropout(F.relu(self.bn1(self.conv1(x))))# Fはtorch.nn.functional\n",
        "        x = self.dropout(F.relu(self.bn2(self.conv2(x))))\n",
        "        x = self.dropout(F.relu(self.bn3(self.conv3(x))))\n",
        "        x = F.relu(self.conv4(x)) # 64, 5, 5\n",
        "        x = x.view(len(x), -1) #len(x) x (残り)の形に変換。すなわち、xの列。\n",
        "        '''\n",
        "        x = F.relu(self.conv1(x))\n",
        "        x = F.relu(F.max_pool2d(self.conv2(x), 2))\n",
        "        x = F.relu(F.max_pool2d(self.conv3(x), 2))\n",
        "        x = F.relu(F.max_pool2d(self.conv4(x), 2))\n",
        "        x = x.view(len(x), -1) \n",
        "        '''\n",
        "        \n",
        "        x = F.relu(self.fc1(x))\n",
        "        x = F.relu(self.fc2(x))\n",
        "        x = F.relu(self.fc25(x))\n",
        "        x = F.relu(self.fc3(x))\n",
        "        return self.fc4(x) #これが得られた目標変数（確率的なもの）。"
      ],
      "execution_count": 0,
      "outputs": []
    },
    {
      "cell_type": "code",
      "metadata": {
        "id": "UB6UlMDTcY8Q",
        "colab_type": "code",
        "colab": {}
      },
      "source": [
        "regressor = Regressor().to(device)"
      ],
      "execution_count": 0,
      "outputs": []
    },
    {
      "cell_type": "code",
      "metadata": {
        "id": "7U05-fr6camE",
        "colab_type": "code",
        "colab": {}
      },
      "source": [
        "learning_rate = 0.0001\n",
        "opt = optim.Adam(regressor.parameters(), lr=learning_rate)\n",
        "\n",
        "ParticleMomentum_mean, ParticlePoint_mean = ParticleMomentum.mean(dim=0), ParticlePoint.mean(dim=0)\n",
        "ParticleMomentum_ParticlePoint_mean = torch.cat([ParticleMomentum_mean, ParticlePoint_mean]).to(device)\n",
        "\n",
        "def metric_relative_mse(y_true, y_pred):\n",
        "    return ((y_true - y_pred).pow(2).mean(dim=0) / (y_true - ParticleMomentum_ParticlePoint_mean).pow(2).mean(dim=0)).sum()"
      ],
      "execution_count": 0,
      "outputs": []
    },
    {
      "cell_type": "markdown",
      "metadata": {
        "id": "XfPAhxfJdIkT",
        "colab_type": "text"
      },
      "source": [
        "## 損失関数の計算"
      ]
    },
    {
      "cell_type": "code",
      "metadata": {
        "id": "ftWW2I8PdHzc",
        "colab_type": "code",
        "colab": {}
      },
      "source": [
        "# L1正則化はスパースな解を得やすいため、不要なパラメータを削りたいときに適する\n",
        "# 一方で、L2正則化は過学習を抑え、汎化された滑らかなモデルを得やすい\n",
        "#loss_fn = torch.nn.L1Loss().to(device)\n",
        "loss_fn = torch.nn.MSELoss().to(device)"
      ],
      "execution_count": 0,
      "outputs": []
    },
    {
      "cell_type": "code",
      "metadata": {
        "id": "HrfPdqQdPyhE",
        "colab_type": "code",
        "colab": {}
      },
      "source": [
        "class RunningAverageMeter(object):\n",
        "    def __init__(self, momentum=0.99):\n",
        "        self.momentum = momentum\n",
        "        self.reset()\n",
        "    def reset(self):\n",
        "        self.val = None\n",
        "        self.avg = 0\n",
        "    def update(self, val):\n",
        "        if self.val is None:\n",
        "            self.avg = val\n",
        "        else:\n",
        "            self.avg = self.avg * self.momentum + val * (1 - self.momentum)\n",
        "        self.val = val"
      ],
      "execution_count": 0,
      "outputs": []
    },
    {
      "cell_type": "code",
      "metadata": {
        "id": "kDnhp8YjQKb5",
        "colab_type": "code",
        "colab": {}
      },
      "source": [
        "def run_training(epochs=10):\n",
        "    losses = []\n",
        "    metrics = []\n",
        "    # 移動平均の初期化\n",
        "    loss_meter = RunningAverageMeter(momentum=0.99)\n",
        "    metric_meter = RunningAverageMeter(momentum=0.99)\n",
        "\n",
        "    for epoch in tqdm(range(epochs)):\n",
        "        \n",
        "        for EnergyDeposit_b, ParticleMomentum_b, ParticlePoint_b in calo_dataloader:\n",
        "            # device(cuda-device)へ特徴量を移す\n",
        "            EnergyDeposit_b, ParticleMomentum_b, ParticlePoint_b = EnergyDeposit_b.to(device), \\\n",
        "                                                                   ParticleMomentum_b.to(device), \\\n",
        "                                                                   ParticlePoint_b.to(device)\n",
        "            #print(EnergyDeposit_b)\n",
        "            \n",
        "            # predictの結果 [batch_size, 4]\n",
        "            pred = regressor(EnergyDeposit_b)\n",
        "\n",
        "            # 損失関数の計算\n",
        "            loss = loss_fn(pred, torch.cat([ParticleMomentum_b, ParticlePoint_b], dim=1))\n",
        "            opt.zero_grad()#前回のステップから勾配を初期化\n",
        "            loss.backward()#損失関数から新しい勾配を計算する\n",
        "            opt.step()#weight parameterを更新する\n",
        "            \n",
        "            # metricsの値を詰める（視覚化用）\n",
        "            loss_meter.update(loss.item())\n",
        "            metric_meter.update(metric_relative_mse(pred, torch.cat([ParticleMomentum_b, ParticlePoint_b], dim=1)).item())\n",
        "            losses.append(loss_meter.avg)\n",
        "            metrics.append(metric_meter.avg)\n",
        "\n",
        "            # lossとmetricsをプロットする\n",
        "        if epoch%10 == 0:\n",
        "            clear_output(wait=True)       \n",
        "            plt.figure(figsize=(12, 12))\n",
        "            plt.plot(losses, label='Loss')\n",
        "            plt.legend()\n",
        "            plt.show()\n",
        "\n",
        "            plt.figure(figsize=(12, 12))\n",
        "            plt.plot(metrics, label='Metric')\n",
        "            plt.legend()  \n",
        "            plt.show()\n",
        "            print(metrics[-1])"
      ],
      "execution_count": 0,
      "outputs": []
    },
    {
      "cell_type": "code",
      "metadata": {
        "id": "f5gCe1mfR2uZ",
        "colab_type": "code",
        "outputId": "150a0819-6d1d-41f3-a3a2-70a76a83c2a9",
        "colab": {
          "base_uri": "https://localhost:8080/",
          "height": 1000
        }
      },
      "source": [
        "run_training(50)"
      ],
      "execution_count": 0,
      "outputs": [
        {
          "output_type": "display_data",
          "data": {
            "image/png": "[encoded data removed]",
            "text/plain": [
              "<Figure size 864x864 with 1 Axes>"
            ]
          },
          "metadata": {
            "tags": []
          }
        },
        {
          "output_type": "display_data",
          "data": {
            "image/png": "[encoded data removed]",
            "text/plain": [
              "<Figure size 864x864 with 1 Axes>"
            ]
          },
          "metadata": {
            "tags": []
          }
        },
        {
          "output_type": "stream",
          "text": [
            "\r 82%|████████▏ | 41/50 [00:42<00:10,  1.16s/it]"
          ],
          "name": "stderr"
        },
        {
          "output_type": "stream",
          "text": [
            "1.833881043164007\n"
          ],
          "name": "stdout"
        },
        {
          "output_type": "stream",
          "text": [
            "100%|██████████| 50/50 [00:51<00:00,  1.02it/s]\n"
          ],
          "name": "stderr"
        }
      ]
    },
    {
      "cell_type": "markdown",
      "metadata": {
        "id": "ynRJU_qTS5tU",
        "colab_type": "text"
      },
      "source": [
        "## 評価セットに対する予測\n"
      ]
    },
    {
      "cell_type": "code",
      "metadata": {
        "id": "QetbNgAkR5dV",
        "colab_type": "code",
        "colab": {}
      },
      "source": [
        "data_val = np.load(val_data_path, allow_pickle=True)\n",
        "EnergyDeposit_val = data_val['EnergyDeposit']\n",
        "EnergyDeposit_val = EnergyDeposit_val.reshape(-1, 1, 30, 30)"
      ],
      "execution_count": 0,
      "outputs": []
    },
    {
      "cell_type": "code",
      "metadata": {
        "id": "XPKtgAbLdO2J",
        "colab_type": "code",
        "outputId": "99d1dc57-0a52-44ef-c3f7-0b44b80866f0",
        "colab": {
          "base_uri": "https://localhost:8080/",
          "height": 34
        }
      },
      "source": [
        "print(list(data_val.keys()))"
      ],
      "execution_count": 0,
      "outputs": [
        {
          "output_type": "stream",
          "text": [
            "['EnergyDeposit']\n"
          ],
          "name": "stdout"
        }
      ]
    },
    {
      "cell_type": "code",
      "metadata": {
        "id": "BS6R0-KHTEHx",
        "colab_type": "code",
        "colab": {}
      },
      "source": [
        "#px, py, x, yからなる、[data_num, 4]の配列を予測する\n",
        "prediction_val = regressor.cpu()(torch.tensor(EnergyDeposit_val).float())\n",
        "# 粒子の初期運動量と、初期位置に配列を二分する\n",
        "ParticleMomentum_val, ParticlePoint_val = prediction_val.detach().numpy()[:, :2], prediction_val.detach().numpy()[:, 2:]"
      ],
      "execution_count": 0,
      "outputs": []
    },
    {
      "cell_type": "code",
      "metadata": {
        "id": "QZqX2_Kscsc0",
        "colab_type": "code",
        "outputId": "2ef4e3e3-7332-466e-a60a-09b2be1498b6",
        "colab": {
          "base_uri": "https://localhost:8080/",
          "height": 34
        }
      },
      "source": [
        "print(ParticleMomentum_val.shape)"
      ],
      "execution_count": 0,
      "outputs": [
        {
          "output_type": "stream",
          "text": [
            "(50250, 2)\n"
          ],
          "name": "stdout"
        }
      ]
    },
    {
      "cell_type": "code",
      "metadata": {
        "id": "j_5sUwfJTXJE",
        "colab_type": "code",
        "colab": {}
      },
      "source": [
        "# predictionファイルを .npz formatで保存する\n",
        "np.savez_compressed('data_val_prediction.npz', \n",
        "                    ParticlePoint=ParticlePoint_val, \n",
        "                    ParticleMomentum=ParticleMomentum_val)"
      ],
      "execution_count": 0,
      "outputs": []
    },
    {
      "cell_type": "code",
      "metadata": {
        "id": "BvDtFBtPiFOc",
        "colab_type": "code",
        "colab": {}
      },
      "source": [
        "del prediction_val\n",
        "import gc\n",
        "gc.collect()"
      ],
      "execution_count": 0,
      "outputs": []
    },
    {
      "cell_type": "code",
      "metadata": {
        "id": "abAivkuUiHHF",
        "colab_type": "code",
        "colab": {}
      },
      "source": [
        "data_val = None\n",
        "EnergyDeposit_val = None\n",
        "gc.collect()"
      ],
      "execution_count": 0,
      "outputs": []
    },
    {
      "cell_type": "markdown",
      "metadata": {
        "id": "HTCKSaq0eLWc",
        "colab_type": "text"
      },
      "source": [
        "## 性能評価\n",
        "\n",
        "訓練データを分けてモデルの評価を行う。\n",
        "\n"
      ]
    },
    {
      "cell_type": "code",
      "metadata": {
        "id": "Iv6vvKEJfvod",
        "colab_type": "code",
        "outputId": "0710381b-43ec-4d44-a6df-b5759d4badd6",
        "colab": {
          "base_uri": "https://localhost:8080/",
          "height": 51
        }
      },
      "source": [
        "data_sol = np.load(train_data_path, allow_pickle=True)\n",
        "EnergyDeposit_sol = data_sol['EnergyDeposit']\n",
        "EnergyDeposit_sol = EnergyDeposit_sol.reshape(-1, 1, 30, 30)\n",
        "print(EnergyDeposit_sol.shape)\n",
        "EnergyDeposit_sol = EnergyDeposit_sol[30000: , : , : , :]\n",
        "print(EnergyDeposit_sol.shape)"
      ],
      "execution_count": 0,
      "outputs": [
        {
          "output_type": "stream",
          "text": [
            "(50250, 1, 30, 30)\n",
            "(20250, 1, 30, 30)\n"
          ],
          "name": "stdout"
        }
      ]
    },
    {
      "cell_type": "code",
      "metadata": {
        "id": "milsKriQgLXY",
        "colab_type": "code",
        "colab": {}
      },
      "source": [
        "#px, py, x, yからなる、[data_num, 4]の配列を予測する\n",
        "prediction_sol = regressor.cpu()(torch.tensor(EnergyDeposit_sol).float())\n",
        "# 粒子の初期運動量と、初期位置に配列を二分する\n",
        "ParticleMomentum_sol, ParticlePoint_sol = prediction_sol.detach().numpy()[:, :2], prediction_sol.detach().numpy()[:, 2:]"
      ],
      "execution_count": 0,
      "outputs": []
    },
    {
      "cell_type": "code",
      "metadata": {
        "id": "lAAr3btic6Wg",
        "colab_type": "code",
        "colab": {}
      },
      "source": [
        "np.savez_compressed('data_sol_prediction.npz', \n",
        "                    ParticlePoint=ParticlePoint_sol, \n",
        "                    ParticleMomentum=ParticleMomentum_sol)"
      ],
      "execution_count": 0,
      "outputs": []
    },
    {
      "cell_type": "code",
      "metadata": {
        "id": "uA-NgPcleEun",
        "colab_type": "code",
        "outputId": "b73a9aee-84e9-495d-c653-8402b7059b8c",
        "colab": {
          "base_uri": "https://localhost:8080/",
          "height": 34
        }
      },
      "source": [
        "ParticleMomentum_true = data_sol['ParticleMomentum']# [data_size, 3]\n",
        "ParticleMomentum_true = ParticleMomentum_true[30000:, :2]\n",
        "ParticlePoint_true = data_sol['ParticlePoint']# [data_size, 2]\n",
        "ParticlePoint_true = ParticlePoint_true[30000:, :2]\n",
        "print(ParticlePoint_true.shape)"
      ],
      "execution_count": 0,
      "outputs": [
        {
          "output_type": "stream",
          "text": [
            "(20250, 2)\n"
          ],
          "name": "stdout"
        }
      ]
    },
    {
      "cell_type": "code",
      "metadata": {
        "id": "lrzabXFdi1lv",
        "colab_type": "code",
        "colab": {}
      },
      "source": [
        "np.savez_compressed('data_sol_true.npz', \n",
        "                    ParticlePoint=ParticlePoint_true, \n",
        "                    ParticleMomentum=ParticleMomentum_true)"
      ],
      "execution_count": 0,
      "outputs": []
    },
    {
      "cell_type": "code",
      "metadata": {
        "id": "skNU_yvLU0xG",
        "colab_type": "code",
        "colab": {}
      },
      "source": [
        "import numpy as np\n",
        "\n",
        "ParticleMomentum_MEAN = np.array([0., 0.])\n",
        "ParticlePoint_MEAN = np.array([0., 0.])\n",
        "\n",
        "def scoring_function(solution_file, predict_file):\n",
        "    score = 0.\n",
        "    \n",
        "    solution = np.load(solution_file, allow_pickle=True)\n",
        "    predict = np.load(predict_file, allow_pickle=True)\n",
        "    ParticleMomentum_sol = solution['ParticleMomentum'][:, :2]\n",
        "    ParticlePoint_sol = solution['ParticlePoint'][:, :2]\n",
        "    \n",
        "    ParticleMomentum_pred = predict['ParticleMomentum'][:, :2]\n",
        "    ParticlePoint_pred = predict['ParticlePoint'][:, :2]\n",
        "    \n",
        "    score += np.sum(np.square(ParticleMomentum_sol - ParticleMomentum_pred).mean(axis=0) / np.square(ParticleMomentum_sol - ParticleMomentum_MEAN).mean(axis=0))\n",
        "    score += np.sum(np.square(ParticlePoint_sol - ParticlePoint_pred).mean(axis=0) / np.square(ParticlePoint_sol - ParticlePoint_MEAN).mean(axis=0))\n",
        "    return np.sqrt(score)"
      ],
      "execution_count": 0,
      "outputs": []
    },
    {
      "cell_type": "code",
      "metadata": {
        "id": "BCN8fMWli-Z3",
        "colab_type": "code",
        "outputId": "b6bd8ce8-54ea-4bcf-ebd5-6bd937430d5f",
        "colab": {
          "base_uri": "https://localhost:8080/",
          "height": 34
        }
      },
      "source": [
        "solution_file = '/content/data_sol_true.npz'\n",
        "predict_file = '/content/data_sol_prediction.npz'\n",
        "print(scoring_function(solution_file, predict_file))"
      ],
      "execution_count": 0,
      "outputs": [
        {
          "output_type": "stream",
          "text": [
            "0.8512018294635643\n"
          ],
          "name": "stdout"
        }
      ]
    }
  ]
}