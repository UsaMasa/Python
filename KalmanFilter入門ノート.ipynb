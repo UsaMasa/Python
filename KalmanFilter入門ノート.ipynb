{
  "nbformat": 4,
  "nbformat_minor": 0,
  "metadata": {
    "colab": {
      "name": "KalmanFilter入門ノート.ipynb",
      "provenance": [],
      "collapsed_sections": [],
      "authorship_tag": "ABX9TyPPEu/lZIL1YHfX98RteBHs",
      "include_colab_link": true
    },
    "kernelspec": {
      "name": "python3",
      "display_name": "Python 3"
    }
  },
  "cells": [
    {
      "cell_type": "markdown",
      "metadata": {
        "id": "view-in-github",
        "colab_type": "text"
      },
      "source": [
        "<a href=\"https://colab.research.google.com/github/UsaMasa/Python/blob/master/KalmanFilter%E5%85%A5%E9%96%80%E3%83%8E%E3%83%BC%E3%83%88.ipynb\" target=\"_parent\"><img src=\"https://colab.research.google.com/assets/colab-badge.svg\" alt=\"Open In Colab\"/></a>"
      ]
    },
    {
      "cell_type": "markdown",
      "metadata": {
        "id": "ZUpbpRfWnJWr",
        "colab_type": "text"
      },
      "source": [
        "# Kalman Filter 入門\n",
        "カルマンフィルタとは、誤差を持った観測値を用いて、ある動的なシステムの状態をより正確に推定するための効率的な再帰アルゴリズムの一種である。"
      ]
    },
    {
      "cell_type": "markdown",
      "metadata": {
        "id": "LVQEMX0DoIQi",
        "colab_type": "text"
      },
      "source": [
        "[1]によると、「ベイズの定理の応用によって数理モデルと観測値から精度良くシステムの状態推定を行うプログラム」と解釈できる。さらに誤解を恐れず平たく言うなら、観測量と予測量を再帰的に計算した最適な重みを用いて重み付け平均していくようなアルゴリズムである。今回は[1]の記事に基づいて勉強する。"
      ]
    },
    {
      "cell_type": "markdown",
      "metadata": {
        "id": "mBGFTLP1oIHo",
        "colab_type": "text"
      },
      "source": [
        "### ベイズの定理\n",
        "P(B|A)を事象Aが起きた時に事象Bが起きる条件付き確率を表すとすると、ベイズの定理は以下の通りとなる\n",
        "$$\n",
        "  P(B|A) = \\frac{P(A|B)}{P(A)} P(B)\n",
        "$$\n",
        "この時、左辺を事後確率、右辺のP(B)をP(B|A)の事前確率と呼ぶ。\n",
        "この辺りの例示は[2]などがわかりやすい。\n",
        "\n",
        "ベイズの定理は従来の分布を仮定してそれに基づいた主張を行う頻度主義に対し、サンプリングに応じて分布の推定を修正していく点に特徴がある。"
      ]
    },
    {
      "cell_type": "markdown",
      "metadata": {
        "id": "mOgKrX1dqT1K",
        "colab_type": "text"
      },
      "source": [
        "## 数理モデル\n",
        "カルマンフィルタを用いるためには対象の数理モデルを理解する必要がある。数理モデルとは、例えば状態変異や観測の数学的表現、ノイズの性質等があげられる。\n",
        "特に、線形のカルマンフィルタを用いる際には以下の4つの制約がかけられる。\n",
        "\n",
        "1.   システムは線形の動的システムであること\n",
        "2.   ホワイトノイズであること\n",
        "3.   初期状態の事前分布がガウス分布であること\n",
        "4.   フィルタ後の分布もガウス分布に従うこと\n",
        "\n",
        "これは素粒子実験とも相性が良い制約である。素粒子の振る舞いに関しては（線形近似して）定式化が可能である。実験における大半の観測ノイズはホワイトノイズであり、ほとんどの測定状態は（検出器の較正さえきちんとしていれば）ガウス分布に従うはずである。\n"
      ]
    },
    {
      "cell_type": "markdown",
      "metadata": {
        "id": "okz9Dz4arFgp",
        "colab_type": "text"
      },
      "source": [
        "## 定式化\n",
        "$$\n",
        "\\mathbf{\n",
        "  x_{t+1} = A_tx_t + Bu_t + w_t \\\\\n",
        "  y_t = Cx_t + v_t \\\\\n",
        "  w_t = \\mathit{N}(0,Q)\\\\\n",
        "  v_t = \\mathit{N}(0,R)\\\\\n",
        "  \\mathit{p}(x_t) = \\mathit{N}(x_t | m_0, V_0)\n",
        "}\n",
        "$$\n",
        "というシステムを考える。この時、xに関する式を状態の遷移に関する方程式（状態方程式、odometry）と呼び、yに関する式を観測による方程式（観測方程式、observation）という。すなわち、状態方程式によって事前分布を更新し、観測方程式によって観測の効果を入れた事後分布を更新するのである。\n",
        "\n",
        "簡単な例として、[3]のトロッコの問題では物体の運動方程式を状態方程式としているので、\n",
        "$$\n",
        "  {\\mathbf x_t} =  \\left(\n",
        "    \\begin{array}{c}\n",
        "      x_t  \\\\\n",
        "      v_t  \\\\\n",
        "    \\end{array}\n",
        "  \\right)\n",
        "$$\n",
        "\n",
        "$$\n",
        "  \\begin{align}\n",
        "  \\mathbf{x_{t+1}} &= \n",
        "  \\left[\n",
        "    \\begin{array}{cc}\n",
        "      1 & dt  \\\\\n",
        "      0 & 1  \n",
        "    \\end{array}\n",
        "  \\right] \\mathbf{x_t}+  \n",
        "  \\left[\n",
        "  \\begin{array}{c}\n",
        "      \\frac{1}{2}dt^2  \\\\\n",
        "      dt\n",
        "    \\end{array}\n",
        "  \\right] a_t +\\mathbf{w_t} \\\\\n",
        "  &= \\mathbf{A_tx_t^{true} + Bu_t + w_t}\n",
        "  \\end{align}\n",
        "$$\n",
        "といったように状態方程式が立てられる。観測方程式としてはセンサの観測情報にノイズを乗せたものを仮定しているので、\n",
        "$$\n",
        "  \\mathbf{y_t = H_t x_t^{true} + v_t}\n",
        "$$\n",
        "と与えられる。"
      ]
    },
    {
      "cell_type": "markdown",
      "metadata": {
        "id": "0MHrUvKz6SHR",
        "colab_type": "text"
      },
      "source": [
        "## カルマンフィルタの導出"
      ]
    },
    {
      "cell_type": "markdown",
      "metadata": {
        "id": "MoJH6u6AcCM0",
        "colab_type": "text"
      },
      "source": [
        "### 定理の整理\n",
        "カルマンフィルタの導出には以下の二つの定理が必要になる。（どちらも証明はPRML[4]に書かれているので省略する。）\n",
        "\n",
        "\n",
        "\n",
        "1.  多変量ガウス分布の線形結合に関する定理\n",
        "2.  多変量ガウス分布の条件付き分布に関する定理\n",
        "3.  周辺分布・条件付き分布に対する同時分布の定理\n"
      ]
    },
    {
      "cell_type": "markdown",
      "metadata": {
        "id": "riyOnh_jbYfC",
        "colab_type": "text"
      },
      "source": [
        "**定理1.**\n",
        "\n",
        "$$ \n",
        "\\mathbf{\n",
        "  y = Ax + b + v} \\\\\n",
        "  p(\\mathbf{x}) = N(\\mathbf{x} | \\mathbf{m, P})\\\\\n",
        "  p(\\mathbf{v}) = N(\\mathbf{v} | \\mathbf{0, R})\n",
        "$$\n",
        "の時、yの事前確率は\n",
        "$$\n",
        "  p(\\mathbf{y}) = N(\\mathbf{y} | \\mathbf{Am+b, APA^T + R})\n",
        "$$\n"
      ]
    },
    {
      "cell_type": "markdown",
      "metadata": {
        "id": "MP41uCgdpPUf",
        "colab_type": "text"
      },
      "source": [
        "**定理2.**\n",
        "\n",
        "ベクトル$\\mathbf{x,y}$の同時確率分布が\n",
        "\n",
        "$$\n",
        "  p(\\mathbf{x,y}) = N( \n",
        "  \\left[\\begin{array}{c}\n",
        "  \\mathbf{x \\\\\n",
        "  y}\n",
        "  \\end{array}\n",
        "  \\right]\n",
        "  |\n",
        "  \\left[\\begin{array}{c}\n",
        "  \\mathbf{a \\\\\n",
        "  b}\n",
        "  \\end{array}\n",
        "  \\right]\n",
        "  ,\n",
        "  \\left[\n",
        "    \\begin{array}{cc}\n",
        "      \\mathbf{P} & \\mathbf{R}  \\\\\n",
        "      \\mathbf{R^T} & \\mathbf{Q}\n",
        "    \\end{array}\n",
        "  \\right]\n",
        "  )\n",
        "$$\n",
        "に従うとする。\n",
        "この時、$\\mathbf{x,y}$の周辺分布は、\n",
        "\n",
        "$$\n",
        "  p(\\mathbf{x}) = N(\\mathbf{x} | \\mathbf{a, P})\\\\\n",
        "  p(\\mathbf{y}) = N(\\mathbf{y} | \\mathbf{b, Q})\n",
        "$$\n",
        "と書くことができる。ここで、一方の値が得られた時、もう一方の事後確率分布を計算することができ、例えばyを得られたならば、xは\n",
        "\n",
        "$$\n",
        "  p(\\mathbf{x | y}) = N(\\mathbf{x} | \\mathbf{a+RQ^{-1}(y-b), P-RQ^{-1}R^T})\n",
        "$$\n",
        "逆にxを得たならば、\n",
        "$$\n",
        "  p(\\mathbf{y | x}) = N(\\mathbf{y} | \\mathbf{b+R^TP^{-1}(x-a), Q-R^TP^{-1}R})\n",
        "$$\n",
        "となる、これにより、状態量の事前分布がわかれば観測が得られた時に、事後分布を求めることが可能になる。ちなみにこれらの式は、一方の観測情報が得られた時に、一方の分散がその情報分（分散分）小さくなることを示している。"
      ]
    },
    {
      "cell_type": "markdown",
      "metadata": {
        "id": "lHQ3NCSFO55f",
        "colab_type": "text"
      },
      "source": [
        "**定理3**\n",
        "\n",
        "　[4]の(2.104)より。\n",
        "$$\n",
        "p(x) = N(x | m,V^{-1}) \\\\\n",
        "p(y | x) = N(y | Ax+b, L^{-1})\n",
        "$$\n",
        "とした時の\n",
        "$$\n",
        "z = [x, y]^T\n",
        "$$\n",
        "の同時分布の共分散行列は、\n",
        "$$\n",
        "R = \\left[\n",
        "    \\begin{array}{cc}\n",
        "      \\mathbf{V + A^TLA} & \\mathbf{-A^TL}  \\\\\n",
        "      \\mathbf{-LA} & \\mathbf{L}\n",
        "    \\end{array}\n",
        "  \\right]\n",
        "$$\n",
        "の逆行列\n",
        "$$\n",
        "cov[\\mathbf{z}] = \\left[\n",
        "    \\begin{array}{cc}\n",
        "      \\mathbf{V^{-1}} & \\mathbf{V^{-1}A^T}  \\\\\n",
        "      \\mathbf{AV^{-1}} & \\mathbf{L^{-1} + AV^{-1}A^T}\n",
        "    \\end{array}\n",
        "  \\right]\n",
        "$$\n",
        "になる。定理3は定理1の帰結であるが、この形がそのまま後半用いられるのでここに示しておく。"
      ]
    },
    {
      "cell_type": "markdown",
      "metadata": {
        "id": "yqI18GnN6bOE",
        "colab_type": "text"
      },
      "source": [
        "### カルマンフィルタの導出"
      ]
    },
    {
      "cell_type": "markdown",
      "metadata": {
        "id": "DUJhsGSu6jb2",
        "colab_type": "text"
      },
      "source": [
        "以下の2ステップに基づいて、事後分布の推定を行う。\n",
        "\n",
        "\n",
        "1.   状態方程式による状態推移の推定（事前分布の計算）\n",
        "2.   観測方程式による、観測結果に基づいた推定の更新（観測更新）\n",
        "\n"
      ]
    },
    {
      "cell_type": "markdown",
      "metadata": {
        "id": "LOL5RR8x8l2d",
        "colab_type": "text"
      },
      "source": [
        "**目標**\n",
        "\n",
        "時刻tにおける入力を受け取った時に、時刻t＋1の状態を推定する。すなわち、時刻tまでの観測で、\n",
        "$$\n",
        "  p(x_t | y_t) = N(x_t | m_t, V_t) \n",
        "$$\n",
        "がわかっている時に、時刻t＋1の観測に基づいて推定を更新し、\n",
        "$$\n",
        "  p(x_{t+1} | y_{t+1}) = N(x_{t+1} | m_{t+1}, V_{t+1})\n",
        "$$\n",
        "を得られることを示す。"
      ]
    },
    {
      "cell_type": "markdown",
      "metadata": {
        "id": "lfBm36i-9Mmm",
        "colab_type": "text"
      },
      "source": [
        "**状態遷移の予測**\n",
        "\n",
        "時刻tでの状態方程式は以下の通り。\n",
        "$$\n",
        "\\mathbf{\n",
        "  x_{t+1} = Ax_t + Bu_t + w_t\\\\\n",
        "  w_t \\sim N(0,Q)\n",
        "}\n",
        "$$\n",
        "ここで定理1より、\n",
        "$$\n",
        "\\begin{align}\n",
        "  p(\\mathbf{x_{t+1} | y_t}) &= N(\\mathbf{x_t+1 | Am_t+Bu_t, AV_tA^T + Q})\\\\\n",
        "  &=N(\\mathbf{x_{t+1} | m^{est}_{t+1}, V^{est}_{t+1}}) \\\\\n",
        "  \\mathbf{m^{est}_{t+1}} &= \\mathbf{Am_t+Bu_t} \\\\\n",
        "  \\mathbf{V^{est}_{t+1}} &= \\mathbf{AV_tA^T + Q}\n",
        "  \\end{align}\n",
        "$$\n",
        "これによって、$\\mathbf{x_{t+1}}$の事前分布が得られた。\n",
        "少しconfusingなのが、条件付き確率で得られている点だが、$y_{t+1}$という観測に対する、という観点でその事後分布の計算に再帰的に用いられる事前分布である。"
      ]
    },
    {
      "cell_type": "markdown",
      "metadata": {
        "id": "rYRuaUu5AGh5",
        "colab_type": "text"
      },
      "source": [
        "**観測更新**\n",
        "\n",
        "次に上で求めた状態量の予測分布から、観測量と状態量$\\mathbf{y_{t+1},x_{t+1}}$の同時予測分布$p(\\mathbf{x_{t+1},y_{t+1} | y_t})$を求める。その後、観測値$y_{t+1}$を用いて目的とする分布$p(\\mathbf{x_{t+1} | y_{t+1}})$を求める。前者には定理3を、後者には定理2を用いる。順に見ていく。\n",
        "\n",
        "まず、観測方程式は\n",
        "$$\n",
        "\\mathbf{\n",
        "  y_{t+1} = Cx_{t+1} + v_{t+1}\\\\\n",
        "  v_{t+1} \\sim \\mathit{N}(0,R)\n",
        "}\n",
        "$$\n",
        "この時、$\\mathbf{y_{t+1},x_{t+1}}$の同時予測分布は、定理3.より、\n",
        "$$\n",
        "  p(\\mathbf{y_{t+1},x_{t+1} | y_t}) = N(\n",
        "    \\left[\n",
        "    \\begin{array}{c}\n",
        "      \\mathbf{x_{t+1}}  \\\\\n",
        "      \\mathbf{y_{t+1}} \n",
        "    \\end{array}\n",
        "    \\right]\n",
        "     |\n",
        "     \\left[ \n",
        "     \\begin{array}{c}\n",
        "      \\mathbf{x_{t+1}}  \\\\\n",
        "      \\mathbf{y_{t+1}} \n",
        "    \\end{array}\n",
        "    \\right]\n",
        "    \\left[\n",
        "     \\begin{array}{cc}\n",
        "      \\mathbf{V_{t+1}^{est}} & \\mathbf{V_{t+1}^{est} C^T}  \\\\\n",
        "      \\mathbf{C V_{t+1}^{est}} & \\mathbf{CV_{t+1}^{est}C^T + R}\n",
        "    \\end{array}\n",
        "    \\right]\n",
        "  )\n",
        "$$\n"
      ]
    },
    {
      "cell_type": "markdown",
      "metadata": {
        "id": "cXvToRcWq7KC",
        "colab_type": "text"
      },
      "source": [
        "こうして同時予測分布の形が得られたので、次に定理2を用いて\n",
        "$$\n",
        "  p(\\mathbf{x_{t+1} | y_{t+1}}) = N(\\mathbf{x_{t+1} | m_{t+1}^{est} + K_{t+1} (y_{t+1} - Cm_{t+1}^{est}), (I - K_{t+1} C) V_{t+1}^{est}}) \\\\\n",
        "  \\mathbf{K_{t+1}} = \\mathbf{V_{t+1}^{est}C^T (CV_{t+1}^{est}C^T + R)^{-1}}\n",
        "$$\n",
        "と書くことが出来た。ここで、$\\mathbf{K_{t+1}}$をカルマンゲインと呼び、数学的に最適な観測値と予測値の間の重みである。\n"
      ]
    },
    {
      "cell_type": "markdown",
      "metadata": {
        "id": "-zWi6aP1peND",
        "colab_type": "text"
      },
      "source": [
        "### Reference\n",
        "[1] http://koukyo1213.hatenablog.com/entry/KalmanFilter \\\\\n",
        "[2] https://bellcurve.jp/statistics/course/6446.html \\\\\n",
        "[3] https://qiita.com/IshitaTakeshi/items/740ac7e9b549eee4cc04 \\\\\n",
        "[4] パターン認識と機械学習　上　C.M.ビショップ著（丸善出版）"
      ]
    },
    {
      "cell_type": "markdown",
      "metadata": {
        "id": "zhbvepvyvLDY",
        "colab_type": "text"
      },
      "source": [
        "# 実装\n"
      ]
    },
    {
      "cell_type": "markdown",
      "metadata": {
        "id": "TIsA0X_Qvf5o",
        "colab_type": "text"
      },
      "source": [
        "## 問題設定\n",
        "WIP"
      ]
    }
  ]
}